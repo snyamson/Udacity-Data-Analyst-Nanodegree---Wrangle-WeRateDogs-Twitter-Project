{
 "cells": [
  {
   "cell_type": "markdown",
   "metadata": {},
   "source": [
    "## Report: act_report\n"
   ]
  },
  {
   "cell_type": "markdown",
   "metadata": {},
   "source": [
    "### Relationship between Favorite Counts and Retweet Counts"
   ]
  },
  {
   "cell_type": "markdown",
   "metadata": {},
   "source": [
    "The graph above shows a highly positive association between the number of favorites and retweets, with a pearson coefficient of 0.72. This shows that, generally speaking, retweet counts increase along with favorite counts. This makes sense because you are about 70% more likely to retweet a tweet that you have favorited or liked.\n",
    "\n",
    "The correlation coefficient, however, indicates that there can be other elements outside favorite counts that influence the expansion of Twitter followers and retweets in general.\n",
    "\n",
    "One would assume that a twitter account with 10,000 followers would have a higher chance of getting their tweet retweeted than one with only 5000 followers.\n",
    "\n",
    "\n",
    "This is left as a blank space that feature analysis can fill in and investigate.\n",
    "\n",
    "When choosing a strategy to improve users' traffic to the page, the owner of the WeRateDogs twitter account must take into account this association. In order for the page owner to base future posts on previously successful ones, a data analysis team may suggest older posts with a high number of favorites or retweets."
   ]
  },
  {
   "cell_type": "markdown",
   "metadata": {},
   "source": [
    "![Correlation Plot](corr_plot.jpg)"
   ]
  },
  {
   "cell_type": "markdown",
   "metadata": {},
   "source": [
    "### Trend Analysis of Tweets Overtime"
   ]
  },
  {
   "cell_type": "markdown",
   "metadata": {},
   "source": [
    "The graph above shows the trend of tweets from November 2015 to August 2017.\n",
    "\n",
    "There may have been a trend in tweet volume decline from the beginning of 2016 until the end of August 2017. Tweet volume immediately plummeted after a big surge from November 2015 to January 2016 and has subsequently usually decreased. This raises the question of why tweet volume is generally falling and provides the weRateDogs Twitter account owner with a hint as to how to implement strategies that will boost traffic."
   ]
  },
  {
   "cell_type": "markdown",
   "metadata": {},
   "source": [
    "![Trend Plot](trend_plot.jpg)"
   ]
  },
  {
   "cell_type": "markdown",
   "metadata": {},
   "source": [
    "### The Most Tweeted Dog Name"
   ]
  },
  {
   "cell_type": "markdown",
   "metadata": {},
   "source": [
    "Names are important, especially for Dogs. According to the pie chart below, the most tweeted dog names are Charlie and Lucy with a percentage of 12.1% respectively, tightly followed by Cooper and Oliver with a percentage of 11% respectively. Toby came out to be the least tweeted dog name with a percentage of 7.7% ."
   ]
  },
  {
   "cell_type": "markdown",
   "metadata": {},
   "source": [
    "![Pie Chart Plot](pie_chart_plot.jpg)"
   ]
  },
  {
   "cell_type": "markdown",
   "metadata": {},
   "source": [
    "### Conclusion"
   ]
  },
  {
   "cell_type": "markdown",
   "metadata": {},
   "source": [
    "The accuracy of the findings produced in any data analysis process is largely determined by whether the data wrangling was done correctly and the dataset was quality and tidy. To my best of knowledge, the analysis and graphs produced are accurate and credible since the dataset was wrangled properly."
   ]
  },
  {
   "cell_type": "code",
   "execution_count": 3,
   "metadata": {},
   "outputs": [
    {
     "data": {
      "text/plain": [
       "0"
      ]
     },
     "execution_count": 3,
     "metadata": {},
     "output_type": "execute_result"
    }
   ],
   "source": [
    "from subprocess import call\n",
    "call(['python', '-m', 'nbconvert', 'act_report.ipynb'])"
   ]
  }
 ],
 "metadata": {
  "kernelspec": {
   "display_name": "Python 3",
   "language": "python",
   "name": "python3"
  },
  "language_info": {
   "codemirror_mode": {
    "name": "ipython",
    "version": 3
   },
   "file_extension": ".py",
   "mimetype": "text/x-python",
   "name": "python",
   "nbconvert_exporter": "python",
   "pygments_lexer": "ipython3",
   "version": "3.6.3"
  }
 },
 "nbformat": 4,
 "nbformat_minor": 2
}
